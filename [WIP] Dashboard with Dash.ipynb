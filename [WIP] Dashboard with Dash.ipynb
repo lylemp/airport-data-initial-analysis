{
 "cells": [
  {
   "cell_type": "markdown",
   "metadata": {
    "id": "LVLHvYrMh2cS"
   },
   "source": [
    "# Setup"
   ]
  },
  {
   "cell_type": "code",
   "execution_count": null,
   "metadata": {
    "colab": {
     "base_uri": "https://localhost:8080/"
    },
    "executionInfo": {
     "elapsed": 23501,
     "status": "ok",
     "timestamp": 1646995451515,
     "user": {
      "displayName": "Lyle Lalunio",
      "photoUrl": "https://lh3.googleusercontent.com/a-/AOh14GghbNYRVss8SZHRpJokVu08wOhF7pBsIB2iMfvj=s64",
      "userId": "00138275883526763465"
     },
     "user_tz": 480
    },
    "id": "n570mAZHZSA7",
    "outputId": "13f3d7e1-030f-4aa3-a7dc-e797f87984ac"
   },
   "outputs": [
    {
     "name": "stdout",
     "output_type": "stream",
     "text": [
      "Collecting jupyter-dash\n",
      "  Downloading jupyter_dash-0.4.1-py3-none-any.whl (17 kB)\n",
      "Collecting retrying\n",
      "  Downloading retrying-1.3.3.tar.gz (10 kB)\n",
      "Requirement already satisfied: flask in /usr/local/lib/python3.7/dist-packages (from jupyter-dash) (1.1.4)\n",
      "Requirement already satisfied: ipython in /usr/local/lib/python3.7/dist-packages (from jupyter-dash) (5.5.0)\n",
      "Collecting ansi2html\n",
      "  Downloading ansi2html-1.7.0-py3-none-any.whl (15 kB)\n",
      "Requirement already satisfied: requests in /usr/local/lib/python3.7/dist-packages (from jupyter-dash) (2.23.0)\n",
      "Requirement already satisfied: ipykernel in /usr/local/lib/python3.7/dist-packages (from jupyter-dash) (4.10.1)\n",
      "Collecting dash\n",
      "  Downloading dash-2.2.0-py3-none-any.whl (8.5 MB)\n",
      "\u001b[K     |████████████████████████████████| 8.5 MB 7.0 MB/s \n",
      "\u001b[?25hRequirement already satisfied: importlib-metadata in /usr/local/lib/python3.7/dist-packages (from ansi2html->jupyter-dash) (4.11.2)\n",
      "Requirement already satisfied: plotly>=5.0.0 in /usr/local/lib/python3.7/dist-packages (from dash->jupyter-dash) (5.5.0)\n",
      "Collecting dash-core-components==2.0.0\n",
      "  Downloading dash_core_components-2.0.0-py3-none-any.whl (3.8 kB)\n",
      "Collecting dash-table==5.0.0\n",
      "  Downloading dash_table-5.0.0-py3-none-any.whl (3.9 kB)\n",
      "Collecting flask-compress\n",
      "  Downloading Flask_Compress-1.11-py3-none-any.whl (7.9 kB)\n",
      "Collecting dash-html-components==2.0.0\n",
      "  Downloading dash_html_components-2.0.0-py3-none-any.whl (4.1 kB)\n",
      "Requirement already satisfied: Jinja2<3.0,>=2.10.1 in /usr/local/lib/python3.7/dist-packages (from flask->jupyter-dash) (2.11.3)\n",
      "Requirement already satisfied: itsdangerous<2.0,>=0.24 in /usr/local/lib/python3.7/dist-packages (from flask->jupyter-dash) (1.1.0)\n",
      "Requirement already satisfied: click<8.0,>=5.1 in /usr/local/lib/python3.7/dist-packages (from flask->jupyter-dash) (7.1.2)\n",
      "Requirement already satisfied: Werkzeug<2.0,>=0.15 in /usr/local/lib/python3.7/dist-packages (from flask->jupyter-dash) (1.0.1)\n",
      "Requirement already satisfied: MarkupSafe>=0.23 in /usr/local/lib/python3.7/dist-packages (from Jinja2<3.0,>=2.10.1->flask->jupyter-dash) (2.0.1)\n",
      "Requirement already satisfied: tenacity>=6.2.0 in /usr/local/lib/python3.7/dist-packages (from plotly>=5.0.0->dash->jupyter-dash) (8.0.1)\n",
      "Requirement already satisfied: six in /usr/local/lib/python3.7/dist-packages (from plotly>=5.0.0->dash->jupyter-dash) (1.15.0)\n",
      "Collecting brotli\n",
      "  Downloading Brotli-1.0.9-cp37-cp37m-manylinux1_x86_64.whl (357 kB)\n",
      "\u001b[K     |████████████████████████████████| 357 kB 44.7 MB/s \n",
      "\u001b[?25hRequirement already satisfied: typing-extensions>=3.6.4 in /usr/local/lib/python3.7/dist-packages (from importlib-metadata->ansi2html->jupyter-dash) (3.10.0.2)\n",
      "Requirement already satisfied: zipp>=0.5 in /usr/local/lib/python3.7/dist-packages (from importlib-metadata->ansi2html->jupyter-dash) (3.7.0)\n",
      "Requirement already satisfied: tornado>=4.0 in /usr/local/lib/python3.7/dist-packages (from ipykernel->jupyter-dash) (5.1.1)\n",
      "Requirement already satisfied: traitlets>=4.1.0 in /usr/local/lib/python3.7/dist-packages (from ipykernel->jupyter-dash) (5.1.1)\n",
      "Requirement already satisfied: jupyter-client in /usr/local/lib/python3.7/dist-packages (from ipykernel->jupyter-dash) (5.3.5)\n",
      "Requirement already satisfied: simplegeneric>0.8 in /usr/local/lib/python3.7/dist-packages (from ipython->jupyter-dash) (0.8.1)\n",
      "Requirement already satisfied: setuptools>=18.5 in /usr/local/lib/python3.7/dist-packages (from ipython->jupyter-dash) (57.4.0)\n",
      "Requirement already satisfied: decorator in /usr/local/lib/python3.7/dist-packages (from ipython->jupyter-dash) (4.4.2)\n",
      "Requirement already satisfied: prompt-toolkit<2.0.0,>=1.0.4 in /usr/local/lib/python3.7/dist-packages (from ipython->jupyter-dash) (1.0.18)\n",
      "Requirement already satisfied: pygments in /usr/local/lib/python3.7/dist-packages (from ipython->jupyter-dash) (2.6.1)\n",
      "Requirement already satisfied: pickleshare in /usr/local/lib/python3.7/dist-packages (from ipython->jupyter-dash) (0.7.5)\n",
      "Requirement already satisfied: pexpect in /usr/local/lib/python3.7/dist-packages (from ipython->jupyter-dash) (4.8.0)\n",
      "Requirement already satisfied: wcwidth in /usr/local/lib/python3.7/dist-packages (from prompt-toolkit<2.0.0,>=1.0.4->ipython->jupyter-dash) (0.2.5)\n",
      "Requirement already satisfied: python-dateutil>=2.1 in /usr/local/lib/python3.7/dist-packages (from jupyter-client->ipykernel->jupyter-dash) (2.8.2)\n",
      "Requirement already satisfied: jupyter-core>=4.6.0 in /usr/local/lib/python3.7/dist-packages (from jupyter-client->ipykernel->jupyter-dash) (4.9.2)\n",
      "Requirement already satisfied: pyzmq>=13 in /usr/local/lib/python3.7/dist-packages (from jupyter-client->ipykernel->jupyter-dash) (22.3.0)\n",
      "Requirement already satisfied: ptyprocess>=0.5 in /usr/local/lib/python3.7/dist-packages (from pexpect->ipython->jupyter-dash) (0.7.0)\n",
      "Requirement already satisfied: certifi>=2017.4.17 in /usr/local/lib/python3.7/dist-packages (from requests->jupyter-dash) (2021.10.8)\n",
      "Requirement already satisfied: urllib3!=1.25.0,!=1.25.1,<1.26,>=1.21.1 in /usr/local/lib/python3.7/dist-packages (from requests->jupyter-dash) (1.24.3)\n",
      "Requirement already satisfied: idna<3,>=2.5 in /usr/local/lib/python3.7/dist-packages (from requests->jupyter-dash) (2.10)\n",
      "Requirement already satisfied: chardet<4,>=3.0.2 in /usr/local/lib/python3.7/dist-packages (from requests->jupyter-dash) (3.0.4)\n",
      "Building wheels for collected packages: retrying\n",
      "  Building wheel for retrying (setup.py) ... \u001b[?25l\u001b[?25hdone\n",
      "  Created wheel for retrying: filename=retrying-1.3.3-py3-none-any.whl size=11447 sha256=121e1a01b8c83a5787e2b8c1e928ac0eb50638b9e5807583907f647f143560c2\n",
      "  Stored in directory: /root/.cache/pip/wheels/f9/8d/8d/f6af3f7f9eea3553bc2fe6d53e4b287dad18b06a861ac56ddf\n",
      "Successfully built retrying\n",
      "Installing collected packages: brotli, flask-compress, dash-table, dash-html-components, dash-core-components, retrying, dash, ansi2html, jupyter-dash\n",
      "Successfully installed ansi2html-1.7.0 brotli-1.0.9 dash-2.2.0 dash-core-components-2.0.0 dash-html-components-2.0.0 dash-table-5.0.0 flask-compress-1.11 jupyter-dash-0.4.1 retrying-1.3.3\n"
     ]
    }
   ],
   "source": [
    "!pip install jupyter-dash"
   ]
  },
  {
   "cell_type": "code",
   "execution_count": null,
   "metadata": {
    "colab": {
     "base_uri": "https://localhost:8080/"
    },
    "executionInfo": {
     "elapsed": 3701,
     "status": "ok",
     "timestamp": 1646995477514,
     "user": {
      "displayName": "Lyle Lalunio",
      "photoUrl": "https://lh3.googleusercontent.com/a-/AOh14GghbNYRVss8SZHRpJokVu08wOhF7pBsIB2iMfvj=s64",
      "userId": "00138275883526763465"
     },
     "user_tz": 480
    },
    "id": "zsHDXQmPwGhP",
    "outputId": "4a5e8ca4-b954-46e1-dee8-f8836b93200e"
   },
   "outputs": [
    {
     "name": "stderr",
     "output_type": "stream",
     "text": [
      "/usr/local/lib/python3.7/dist-packages/ipykernel_launcher.py:3: UserWarning: \n",
      "The dash_core_components package is deprecated. Please replace\n",
      "`import dash_core_components as dcc` with `from dash import dcc`\n",
      "  This is separate from the ipykernel package so we can avoid doing imports until\n",
      "/usr/local/lib/python3.7/dist-packages/ipykernel_launcher.py:4: UserWarning: \n",
      "The dash_html_components package is deprecated. Please replace\n",
      "`import dash_html_components as html` with `from dash import html`\n",
      "  after removing the cwd from sys.path.\n"
     ]
    },
    {
     "data": {
      "text/html": [
       "\n",
       "  <div id=\"df-60de5ca2-effb-4ec4-8159-942aedc0e84f\">\n",
       "    <div class=\"colab-df-container\">\n",
       "      <div>\n",
       "<style scoped>\n",
       "    .dataframe tbody tr th:only-of-type {\n",
       "        vertical-align: middle;\n",
       "    }\n",
       "\n",
       "    .dataframe tbody tr th {\n",
       "        vertical-align: top;\n",
       "    }\n",
       "\n",
       "    .dataframe thead th {\n",
       "        text-align: right;\n",
       "    }\n",
       "</style>\n",
       "<table border=\"1\" class=\"dataframe\">\n",
       "  <thead>\n",
       "    <tr style=\"text-align: right;\">\n",
       "      <th></th>\n",
       "      <th>Airport.Code</th>\n",
       "      <th>Airport.Location</th>\n",
       "      <th>Airport.Name</th>\n",
       "      <th>Statistics.# of Delays.Carrier</th>\n",
       "      <th>Statistics.# of Delays.Late Aircraft</th>\n",
       "      <th>Statistics.# of Delays.National Aviation System</th>\n",
       "      <th>Statistics.# of Delays.Security</th>\n",
       "      <th>Statistics.# of Delays.Total</th>\n",
       "      <th>Statistics.# of Delays.Weather</th>\n",
       "      <th>Statistics.Carriers.Names</th>\n",
       "      <th>...</th>\n",
       "      <th>Statistics.Minutes Delayed.Carrier</th>\n",
       "      <th>Statistics.Minutes Delayed.Late Aircraft</th>\n",
       "      <th>Statistics.Minutes Delayed.National Aviation System</th>\n",
       "      <th>Statistics.Minutes Delayed.Security</th>\n",
       "      <th>Statistics.Minutes Delayed.Total</th>\n",
       "      <th>Statistics.Minutes Delayed.Weather</th>\n",
       "      <th>Time.Label</th>\n",
       "      <th>Time.Month</th>\n",
       "      <th>Time.Month Name</th>\n",
       "      <th>Time.Year</th>\n",
       "    </tr>\n",
       "  </thead>\n",
       "  <tbody>\n",
       "    <tr>\n",
       "      <th>0</th>\n",
       "      <td>ATL</td>\n",
       "      <td>Atlanta, GA</td>\n",
       "      <td>Hartsfield-Jackson Atlanta International</td>\n",
       "      <td>1009</td>\n",
       "      <td>1275</td>\n",
       "      <td>3217</td>\n",
       "      <td>17</td>\n",
       "      <td>5846</td>\n",
       "      <td>328</td>\n",
       "      <td>American Airlines Inc.,JetBlue Airways,Contine...</td>\n",
       "      <td>...</td>\n",
       "      <td>61606</td>\n",
       "      <td>68335</td>\n",
       "      <td>118831</td>\n",
       "      <td>518</td>\n",
       "      <td>268764</td>\n",
       "      <td>19474</td>\n",
       "      <td>2003-06-01</td>\n",
       "      <td>6</td>\n",
       "      <td>June</td>\n",
       "      <td>2003</td>\n",
       "    </tr>\n",
       "    <tr>\n",
       "      <th>1</th>\n",
       "      <td>TPA</td>\n",
       "      <td>Tampa, FL</td>\n",
       "      <td>Tampa International</td>\n",
       "      <td>226</td>\n",
       "      <td>327</td>\n",
       "      <td>524</td>\n",
       "      <td>3</td>\n",
       "      <td>1122</td>\n",
       "      <td>42</td>\n",
       "      <td>American Airlines Inc.,JetBlue Airways,Contine...</td>\n",
       "      <td>...</td>\n",
       "      <td>11012</td>\n",
       "      <td>18558</td>\n",
       "      <td>19078</td>\n",
       "      <td>112</td>\n",
       "      <td>51364</td>\n",
       "      <td>2604</td>\n",
       "      <td>2003-06-01</td>\n",
       "      <td>6</td>\n",
       "      <td>June</td>\n",
       "      <td>2003</td>\n",
       "    </tr>\n",
       "    <tr>\n",
       "      <th>2</th>\n",
       "      <td>SLC</td>\n",
       "      <td>Salt Lake City, UT</td>\n",
       "      <td>Salt Lake City International</td>\n",
       "      <td>363</td>\n",
       "      <td>290</td>\n",
       "      <td>352</td>\n",
       "      <td>15</td>\n",
       "      <td>1056</td>\n",
       "      <td>36</td>\n",
       "      <td>American Airlines Inc.,JetBlue Airways,Contine...</td>\n",
       "      <td>...</td>\n",
       "      <td>16227</td>\n",
       "      <td>13883</td>\n",
       "      <td>10512</td>\n",
       "      <td>556</td>\n",
       "      <td>42863</td>\n",
       "      <td>1685</td>\n",
       "      <td>2003-06-01</td>\n",
       "      <td>6</td>\n",
       "      <td>June</td>\n",
       "      <td>2003</td>\n",
       "    </tr>\n",
       "    <tr>\n",
       "      <th>3</th>\n",
       "      <td>SFO</td>\n",
       "      <td>San Francisco, CA</td>\n",
       "      <td>San Francisco International</td>\n",
       "      <td>416</td>\n",
       "      <td>312</td>\n",
       "      <td>1080</td>\n",
       "      <td>14</td>\n",
       "      <td>1881</td>\n",
       "      <td>59</td>\n",
       "      <td>American Airlines Inc.,Alaska Airlines Inc.,Co...</td>\n",
       "      <td>...</td>\n",
       "      <td>22673</td>\n",
       "      <td>17879</td>\n",
       "      <td>45407</td>\n",
       "      <td>1138</td>\n",
       "      <td>90487</td>\n",
       "      <td>3390</td>\n",
       "      <td>2003-06-01</td>\n",
       "      <td>6</td>\n",
       "      <td>June</td>\n",
       "      <td>2003</td>\n",
       "    </tr>\n",
       "    <tr>\n",
       "      <th>4</th>\n",
       "      <td>SEA</td>\n",
       "      <td>Seattle, WA</td>\n",
       "      <td>Seattle/Tacoma International</td>\n",
       "      <td>448</td>\n",
       "      <td>552</td>\n",
       "      <td>454</td>\n",
       "      <td>28</td>\n",
       "      <td>1518</td>\n",
       "      <td>36</td>\n",
       "      <td>American Airlines Inc.,Alaska Airlines Inc.,Je...</td>\n",
       "      <td>...</td>\n",
       "      <td>22647</td>\n",
       "      <td>28119</td>\n",
       "      <td>13860</td>\n",
       "      <td>1097</td>\n",
       "      <td>68673</td>\n",
       "      <td>2950</td>\n",
       "      <td>2003-06-01</td>\n",
       "      <td>6</td>\n",
       "      <td>June</td>\n",
       "      <td>2003</td>\n",
       "    </tr>\n",
       "  </tbody>\n",
       "</table>\n",
       "<p>5 rows × 26 columns</p>\n",
       "</div>\n",
       "      <button class=\"colab-df-convert\" onclick=\"convertToInteractive('df-60de5ca2-effb-4ec4-8159-942aedc0e84f')\"\n",
       "              title=\"Convert this dataframe to an interactive table.\"\n",
       "              style=\"display:none;\">\n",
       "        \n",
       "  <svg xmlns=\"http://www.w3.org/2000/svg\" height=\"24px\"viewBox=\"0 0 24 24\"\n",
       "       width=\"24px\">\n",
       "    <path d=\"M0 0h24v24H0V0z\" fill=\"none\"/>\n",
       "    <path d=\"M18.56 5.44l.94 2.06.94-2.06 2.06-.94-2.06-.94-.94-2.06-.94 2.06-2.06.94zm-11 1L8.5 8.5l.94-2.06 2.06-.94-2.06-.94L8.5 2.5l-.94 2.06-2.06.94zm10 10l.94 2.06.94-2.06 2.06-.94-2.06-.94-.94-2.06-.94 2.06-2.06.94z\"/><path d=\"M17.41 7.96l-1.37-1.37c-.4-.4-.92-.59-1.43-.59-.52 0-1.04.2-1.43.59L10.3 9.45l-7.72 7.72c-.78.78-.78 2.05 0 2.83L4 21.41c.39.39.9.59 1.41.59.51 0 1.02-.2 1.41-.59l7.78-7.78 2.81-2.81c.8-.78.8-2.07 0-2.86zM5.41 20L4 18.59l7.72-7.72 1.47 1.35L5.41 20z\"/>\n",
       "  </svg>\n",
       "      </button>\n",
       "      \n",
       "  <style>\n",
       "    .colab-df-container {\n",
       "      display:flex;\n",
       "      flex-wrap:wrap;\n",
       "      gap: 12px;\n",
       "    }\n",
       "\n",
       "    .colab-df-convert {\n",
       "      background-color: #E8F0FE;\n",
       "      border: none;\n",
       "      border-radius: 50%;\n",
       "      cursor: pointer;\n",
       "      display: none;\n",
       "      fill: #1967D2;\n",
       "      height: 32px;\n",
       "      padding: 0 0 0 0;\n",
       "      width: 32px;\n",
       "    }\n",
       "\n",
       "    .colab-df-convert:hover {\n",
       "      background-color: #E2EBFA;\n",
       "      box-shadow: 0px 1px 2px rgba(60, 64, 67, 0.3), 0px 1px 3px 1px rgba(60, 64, 67, 0.15);\n",
       "      fill: #174EA6;\n",
       "    }\n",
       "\n",
       "    [theme=dark] .colab-df-convert {\n",
       "      background-color: #3B4455;\n",
       "      fill: #D2E3FC;\n",
       "    }\n",
       "\n",
       "    [theme=dark] .colab-df-convert:hover {\n",
       "      background-color: #434B5C;\n",
       "      box-shadow: 0px 1px 3px 1px rgba(0, 0, 0, 0.15);\n",
       "      filter: drop-shadow(0px 1px 2px rgba(0, 0, 0, 0.3));\n",
       "      fill: #FFFFFF;\n",
       "    }\n",
       "  </style>\n",
       "\n",
       "      <script>\n",
       "        const buttonEl =\n",
       "          document.querySelector('#df-60de5ca2-effb-4ec4-8159-942aedc0e84f button.colab-df-convert');\n",
       "        buttonEl.style.display =\n",
       "          google.colab.kernel.accessAllowed ? 'block' : 'none';\n",
       "\n",
       "        async function convertToInteractive(key) {\n",
       "          const element = document.querySelector('#df-60de5ca2-effb-4ec4-8159-942aedc0e84f');\n",
       "          const dataTable =\n",
       "            await google.colab.kernel.invokeFunction('convertToInteractive',\n",
       "                                                     [key], {});\n",
       "          if (!dataTable) return;\n",
       "\n",
       "          const docLinkHtml = 'Like what you see? Visit the ' +\n",
       "            '<a target=\"_blank\" href=https://colab.research.google.com/notebooks/data_table.ipynb>data table notebook</a>'\n",
       "            + ' to learn more about interactive tables.';\n",
       "          element.innerHTML = '';\n",
       "          dataTable['output_type'] = 'display_data';\n",
       "          await google.colab.output.renderOutput(dataTable, element);\n",
       "          const docLink = document.createElement('div');\n",
       "          docLink.innerHTML = docLinkHtml;\n",
       "          element.appendChild(docLink);\n",
       "        }\n",
       "      </script>\n",
       "    </div>\n",
       "  </div>\n",
       "  "
      ],
      "text/plain": [
       "  Airport.Code    Airport.Location                              Airport.Name  \\\n",
       "0          ATL         Atlanta, GA  Hartsfield-Jackson Atlanta International   \n",
       "1          TPA           Tampa, FL                       Tampa International   \n",
       "2          SLC  Salt Lake City, UT              Salt Lake City International   \n",
       "3          SFO   San Francisco, CA               San Francisco International   \n",
       "4          SEA         Seattle, WA              Seattle/Tacoma International   \n",
       "\n",
       "   Statistics.# of Delays.Carrier  Statistics.# of Delays.Late Aircraft  \\\n",
       "0                            1009                                  1275   \n",
       "1                             226                                   327   \n",
       "2                             363                                   290   \n",
       "3                             416                                   312   \n",
       "4                             448                                   552   \n",
       "\n",
       "   Statistics.# of Delays.National Aviation System  \\\n",
       "0                                             3217   \n",
       "1                                              524   \n",
       "2                                              352   \n",
       "3                                             1080   \n",
       "4                                              454   \n",
       "\n",
       "   Statistics.# of Delays.Security  Statistics.# of Delays.Total  \\\n",
       "0                               17                          5846   \n",
       "1                                3                          1122   \n",
       "2                               15                          1056   \n",
       "3                               14                          1881   \n",
       "4                               28                          1518   \n",
       "\n",
       "   Statistics.# of Delays.Weather  \\\n",
       "0                             328   \n",
       "1                              42   \n",
       "2                              36   \n",
       "3                              59   \n",
       "4                              36   \n",
       "\n",
       "                           Statistics.Carriers.Names  ...  \\\n",
       "0  American Airlines Inc.,JetBlue Airways,Contine...  ...   \n",
       "1  American Airlines Inc.,JetBlue Airways,Contine...  ...   \n",
       "2  American Airlines Inc.,JetBlue Airways,Contine...  ...   \n",
       "3  American Airlines Inc.,Alaska Airlines Inc.,Co...  ...   \n",
       "4  American Airlines Inc.,Alaska Airlines Inc.,Je...  ...   \n",
       "\n",
       "   Statistics.Minutes Delayed.Carrier  \\\n",
       "0                               61606   \n",
       "1                               11012   \n",
       "2                               16227   \n",
       "3                               22673   \n",
       "4                               22647   \n",
       "\n",
       "   Statistics.Minutes Delayed.Late Aircraft  \\\n",
       "0                                     68335   \n",
       "1                                     18558   \n",
       "2                                     13883   \n",
       "3                                     17879   \n",
       "4                                     28119   \n",
       "\n",
       "   Statistics.Minutes Delayed.National Aviation System  \\\n",
       "0                                             118831     \n",
       "1                                              19078     \n",
       "2                                              10512     \n",
       "3                                              45407     \n",
       "4                                              13860     \n",
       "\n",
       "   Statistics.Minutes Delayed.Security  Statistics.Minutes Delayed.Total  \\\n",
       "0                                  518                            268764   \n",
       "1                                  112                             51364   \n",
       "2                                  556                             42863   \n",
       "3                                 1138                             90487   \n",
       "4                                 1097                             68673   \n",
       "\n",
       "   Statistics.Minutes Delayed.Weather  Time.Label  Time.Month  \\\n",
       "0                               19474  2003-06-01           6   \n",
       "1                                2604  2003-06-01           6   \n",
       "2                                1685  2003-06-01           6   \n",
       "3                                3390  2003-06-01           6   \n",
       "4                                2950  2003-06-01           6   \n",
       "\n",
       "   Time.Month Name  Time.Year  \n",
       "0             June       2003  \n",
       "1             June       2003  \n",
       "2             June       2003  \n",
       "3             June       2003  \n",
       "4             June       2003  \n",
       "\n",
       "[5 rows x 26 columns]"
      ]
     },
     "execution_count": 3,
     "metadata": {},
     "output_type": "execute_result"
    }
   ],
   "source": [
    "import plotly.express as px\n",
    "from jupyter_dash import JupyterDash\n",
    "import dash_core_components as dcc\n",
    "import dash_html_components as html\n",
    "from dash.dependencies import Input, Output\n",
    "import plotly.graph_objects as go\n",
    "\n",
    "import json\n",
    "import pandas as po\n",
    "import numpy as np\n",
    "data = po.read_csv(\"data/Cleaned_airports.csv\", index_col=0, parse_dates=True)\n",
    "data['Airport.Name'] = data['Airport.Name'].str.strip()\n",
    "data.head()"
   ]
  },
  {
   "cell_type": "code",
   "execution_count": null,
   "metadata": {
    "id": "5b0Dmx7XQz8U"
   },
   "outputs": [],
   "source": [
    "df = data.copy()\n",
    "df['Statistics.Flights.Proportion Delayed'] = df['Statistics.Flights.Delayed'] / df['Statistics.Flights.Total']\n",
    "\n",
    "chances_delay = None\n",
    "with open(\"outputs/airport-delay_chance.json\", \"r\") as f:\n",
    "    chances_delay = po.Series(json.load(f))"
   ]
  },
  {
   "cell_type": "code",
   "execution_count": null,
   "metadata": {
    "colab": {
     "base_uri": "https://localhost:8080/"
    },
    "executionInfo": {
     "elapsed": 359,
     "status": "ok",
     "timestamp": 1646995478535,
     "user": {
      "displayName": "Lyle Lalunio",
      "photoUrl": "https://lh3.googleusercontent.com/a-/AOh14GghbNYRVss8SZHRpJokVu08wOhF7pBsIB2iMfvj=s64",
      "userId": "00138275883526763465"
     },
     "user_tz": 480
    },
    "id": "3mcVA-Yhh5Ol",
    "outputId": "fd2114c2-eab6-4d77-90b8-1414ea845b20"
   },
   "outputs": [
    {
     "data": {
      "text/html": [
       "\n",
       "  <div id=\"df-44e0a8fb-94a3-44e3-8fb8-4afeb37a99ee\">\n",
       "    <div class=\"colab-df-container\">\n",
       "      <div>\n",
       "<style scoped>\n",
       "    .dataframe tbody tr th:only-of-type {\n",
       "        vertical-align: middle;\n",
       "    }\n",
       "\n",
       "    .dataframe tbody tr th {\n",
       "        vertical-align: top;\n",
       "    }\n",
       "\n",
       "    .dataframe thead th {\n",
       "        text-align: right;\n",
       "    }\n",
       "</style>\n",
       "<table border=\"1\" class=\"dataframe\">\n",
       "  <thead>\n",
       "    <tr style=\"text-align: right;\">\n",
       "      <th></th>\n",
       "      <th>Airport.Name</th>\n",
       "      <th>Latitude</th>\n",
       "      <th>Longitude</th>\n",
       "      <th>Chance of Delay</th>\n",
       "      <th>geometry</th>\n",
       "    </tr>\n",
       "  </thead>\n",
       "  <tbody>\n",
       "    <tr>\n",
       "      <th>0</th>\n",
       "      <td>Salt Lake City International</td>\n",
       "      <td>40.7899</td>\n",
       "      <td>-111.9791</td>\n",
       "      <td>15.030975</td>\n",
       "      <td>POINT (-111.9791 40.7899)</td>\n",
       "    </tr>\n",
       "    <tr>\n",
       "      <th>1</th>\n",
       "      <td>Phoenix Sky Harbor International</td>\n",
       "      <td>33.4352</td>\n",
       "      <td>-112.0101</td>\n",
       "      <td>16.309776</td>\n",
       "      <td>POINT (-112.0101 33.4352)</td>\n",
       "    </tr>\n",
       "    <tr>\n",
       "      <th>2</th>\n",
       "      <td>Chicago Midway International</td>\n",
       "      <td>41.7868</td>\n",
       "      <td>-87.7522</td>\n",
       "      <td>17.338881</td>\n",
       "      <td>POINT (-87.7522 41.7868)</td>\n",
       "    </tr>\n",
       "    <tr>\n",
       "      <th>3</th>\n",
       "      <td>Denver International</td>\n",
       "      <td>39.8561</td>\n",
       "      <td>-104.6737</td>\n",
       "      <td>17.596135</td>\n",
       "      <td>POINT (-104.6737 39.8561)</td>\n",
       "    </tr>\n",
       "    <tr>\n",
       "      <th>4</th>\n",
       "      <td>Dallas/Fort Worth International</td>\n",
       "      <td>32.8998</td>\n",
       "      <td>-97.0403</td>\n",
       "      <td>17.706570</td>\n",
       "      <td>POINT (-97.0403 32.8998)</td>\n",
       "    </tr>\n",
       "  </tbody>\n",
       "</table>\n",
       "</div>\n",
       "      <button class=\"colab-df-convert\" onclick=\"convertToInteractive('df-44e0a8fb-94a3-44e3-8fb8-4afeb37a99ee')\"\n",
       "              title=\"Convert this dataframe to an interactive table.\"\n",
       "              style=\"display:none;\">\n",
       "        \n",
       "  <svg xmlns=\"http://www.w3.org/2000/svg\" height=\"24px\"viewBox=\"0 0 24 24\"\n",
       "       width=\"24px\">\n",
       "    <path d=\"M0 0h24v24H0V0z\" fill=\"none\"/>\n",
       "    <path d=\"M18.56 5.44l.94 2.06.94-2.06 2.06-.94-2.06-.94-.94-2.06-.94 2.06-2.06.94zm-11 1L8.5 8.5l.94-2.06 2.06-.94-2.06-.94L8.5 2.5l-.94 2.06-2.06.94zm10 10l.94 2.06.94-2.06 2.06-.94-2.06-.94-.94-2.06-.94 2.06-2.06.94z\"/><path d=\"M17.41 7.96l-1.37-1.37c-.4-.4-.92-.59-1.43-.59-.52 0-1.04.2-1.43.59L10.3 9.45l-7.72 7.72c-.78.78-.78 2.05 0 2.83L4 21.41c.39.39.9.59 1.41.59.51 0 1.02-.2 1.41-.59l7.78-7.78 2.81-2.81c.8-.78.8-2.07 0-2.86zM5.41 20L4 18.59l7.72-7.72 1.47 1.35L5.41 20z\"/>\n",
       "  </svg>\n",
       "      </button>\n",
       "      \n",
       "  <style>\n",
       "    .colab-df-container {\n",
       "      display:flex;\n",
       "      flex-wrap:wrap;\n",
       "      gap: 12px;\n",
       "    }\n",
       "\n",
       "    .colab-df-convert {\n",
       "      background-color: #E8F0FE;\n",
       "      border: none;\n",
       "      border-radius: 50%;\n",
       "      cursor: pointer;\n",
       "      display: none;\n",
       "      fill: #1967D2;\n",
       "      height: 32px;\n",
       "      padding: 0 0 0 0;\n",
       "      width: 32px;\n",
       "    }\n",
       "\n",
       "    .colab-df-convert:hover {\n",
       "      background-color: #E2EBFA;\n",
       "      box-shadow: 0px 1px 2px rgba(60, 64, 67, 0.3), 0px 1px 3px 1px rgba(60, 64, 67, 0.15);\n",
       "      fill: #174EA6;\n",
       "    }\n",
       "\n",
       "    [theme=dark] .colab-df-convert {\n",
       "      background-color: #3B4455;\n",
       "      fill: #D2E3FC;\n",
       "    }\n",
       "\n",
       "    [theme=dark] .colab-df-convert:hover {\n",
       "      background-color: #434B5C;\n",
       "      box-shadow: 0px 1px 3px 1px rgba(0, 0, 0, 0.15);\n",
       "      filter: drop-shadow(0px 1px 2px rgba(0, 0, 0, 0.3));\n",
       "      fill: #FFFFFF;\n",
       "    }\n",
       "  </style>\n",
       "\n",
       "      <script>\n",
       "        const buttonEl =\n",
       "          document.querySelector('#df-44e0a8fb-94a3-44e3-8fb8-4afeb37a99ee button.colab-df-convert');\n",
       "        buttonEl.style.display =\n",
       "          google.colab.kernel.accessAllowed ? 'block' : 'none';\n",
       "\n",
       "        async function convertToInteractive(key) {\n",
       "          const element = document.querySelector('#df-44e0a8fb-94a3-44e3-8fb8-4afeb37a99ee');\n",
       "          const dataTable =\n",
       "            await google.colab.kernel.invokeFunction('convertToInteractive',\n",
       "                                                     [key], {});\n",
       "          if (!dataTable) return;\n",
       "\n",
       "          const docLinkHtml = 'Like what you see? Visit the ' +\n",
       "            '<a target=\"_blank\" href=https://colab.research.google.com/notebooks/data_table.ipynb>data table notebook</a>'\n",
       "            + ' to learn more about interactive tables.';\n",
       "          element.innerHTML = '';\n",
       "          dataTable['output_type'] = 'display_data';\n",
       "          await google.colab.output.renderOutput(dataTable, element);\n",
       "          const docLink = document.createElement('div');\n",
       "          docLink.innerHTML = docLinkHtml;\n",
       "          element.appendChild(docLink);\n",
       "        }\n",
       "      </script>\n",
       "    </div>\n",
       "  </div>\n",
       "  "
      ],
      "text/plain": [
       "                       Airport.Name  Latitude  Longitude  Chance of Delay  \\\n",
       "0      Salt Lake City International   40.7899  -111.9791        15.030975   \n",
       "1  Phoenix Sky Harbor International   33.4352  -112.0101        16.309776   \n",
       "2      Chicago Midway International   41.7868   -87.7522        17.338881   \n",
       "3              Denver International   39.8561  -104.6737        17.596135   \n",
       "4   Dallas/Fort Worth International   32.8998   -97.0403        17.706570   \n",
       "\n",
       "                    geometry  \n",
       "0  POINT (-111.9791 40.7899)  \n",
       "1  POINT (-112.0101 33.4352)  \n",
       "2   POINT (-87.7522 41.7868)  \n",
       "3  POINT (-104.6737 39.8561)  \n",
       "4   POINT (-97.0403 32.8998)  "
      ]
     },
     "execution_count": 5,
     "metadata": {},
     "output_type": "execute_result"
    }
   ],
   "source": [
    "geo_df = po.read_csv(\"outputs/geopandas_latlon.csv\",index_col=0)\n",
    "geo_df.head()"
   ]
  },
  {
   "cell_type": "markdown",
   "metadata": {
    "id": "cQWtbvMTh0ti"
   },
   "source": [
    "# Build Dashboard\n",
    "Displays proportion of delayed flights over time for each airport.\n",
    "\n",
    "Additionally displays least and most likely airports to have a delayed flight."
   ]
  },
  {
   "cell_type": "code",
   "execution_count": null,
   "metadata": {
    "id": "Hlv97AWnpKmD"
   },
   "outputs": [],
   "source": [
    "# Build App\n",
    "app = JupyterDash(__name__)\n",
    "app.layout = html.Div([\n",
    "    html.Div([\n",
    "        html.H1(\"Airport Dashboard\"),\n",
    "        html.Label([\n",
    "            \"Airport Name\",\n",
    "            dcc.Dropdown(\n",
    "                id='airport-name-dropdown', clearable=False,\n",
    "                value='San Francisco International', options=[\n",
    "                    {'label': name, 'value': name}\n",
    "                    for name in df['Airport.Name'].sort_values().unique()\n",
    "                ])\n",
    "            ]),\n",
    "        dcc.Graph(id='graph'),\n",
    "    ]),\n",
    "    html.Div([\n",
    "        html.H2(\"Reasons for Delay Breakdown\"),\n",
    "        dcc.Graph(id='donut-graph')\n",
    "    ]),\n",
    "    html.Div([\n",
    "      html.Div([\n",
    "          html.H2(\"Airports least likely to have a flight delay\"),\n",
    "          html.H3(\"{}: {}%\".format(chances_delay.index[0], round(100*chances_delay.iloc[0], 2))),\n",
    "          html.H3(\"{}: {}%\".format(chances_delay.index[1], round(100*chances_delay.iloc[1],2))),\n",
    "          html.H3(\"{}: {}%\".format(chances_delay.index[2], round(100*chances_delay.iloc[2],2)))\n",
    "      ],style={'width': '49%', 'display': 'inline-block'}),\n",
    "      html.Div([\n",
    "          html.H2(\"Airports most likely to have a flight delay\"),\n",
    "          html.H3(\"{}: {}%\".format(chances_delay.index[-1], round(100*chances_delay.iloc[-1], 2))),\n",
    "          html.H3(\"{}: {}%\".format(chances_delay.index[-2], round(100*chances_delay.iloc[-2],2))),\n",
    "          html.H3(\"{}: {}%\".format(chances_delay.index[-3], round(100*chances_delay.iloc[-3],2)))\n",
    "      ],style={'width': '49%', 'display': 'inline-block'}),\n",
    "    ])\n",
    "\n",
    "])\n",
    "# Define callbacks to update graphs\n",
    "@app.callback(\n",
    "    Output('graph', 'figure'),\n",
    "    [Input(\"airport-name-dropdown\", \"value\")]\n",
    ")\n",
    "def update_figure(val):\n",
    "    try:\n",
    "        #print(val)\n",
    "        d = df[df['Airport.Name'] == val]\n",
    "        return px.line(\n",
    "            d, x=\"Time.Label\", y=\"Statistics.Flights.Proportion Delayed\",\n",
    "            render_mode=\"webgl\", title=\"Proportion of Delayed Flights over Time\"\n",
    "        )\n",
    "    except:\n",
    "        return None\n",
    "\n",
    "\n",
    "@app.callback(\n",
    "    Output('donut-graph', 'figure'),\n",
    "    [Input(\"airport-name-dropdown\", \"value\")]\n",
    ")\n",
    "def update_donut(val):\n",
    "    try:\n",
    "        d = df[df['Airport.Name'] == val]\n",
    "        total = d['Statistics.# of Delays.Total'].sum() + 1e-6 # avoid divide by 0 error during initialization\n",
    "\n",
    "        labels = ['Carrier', 'Late Aircraft', 'National Aviation System', 'Security', 'Weather']\n",
    "        values = [d['Statistics.# of Delays.{}'.format(col)].sum() / total for col in labels]\n",
    "        return go.Figure(\n",
    "            data=[go.Pie(labels=labels, values=values, hole=.35,)]\n",
    "        )\n",
    "    except:\n",
    "        return None\n"
   ]
  },
  {
   "cell_type": "code",
   "execution_count": null,
   "metadata": {
    "colab": {
     "base_uri": "https://localhost:8080/",
     "height": 671
    },
    "executionInfo": {
     "elapsed": 259,
     "status": "ok",
     "timestamp": 1646959272759,
     "user": {
      "displayName": "Lyle Lalunio",
      "photoUrl": "https://lh3.googleusercontent.com/a-/AOh14GghbNYRVss8SZHRpJokVu08wOhF7pBsIB2iMfvj=s64",
      "userId": "00138275883526763465"
     },
     "user_tz": 480
    },
    "id": "12--mwNJqahT",
    "outputId": "871dbb7c-4bb3-4770-e8fc-f29affbbe14f",
    "scrolled": false
   },
   "outputs": [
    {
     "data": {
      "application/javascript": [
       "(async (port, path, width, height, cache, element) => {\n",
       "    if (!google.colab.kernel.accessAllowed && !cache) {\n",
       "      return;\n",
       "    }\n",
       "    element.appendChild(document.createTextNode(''));\n",
       "    const url = await google.colab.kernel.proxyPort(port, {cache});\n",
       "    const iframe = document.createElement('iframe');\n",
       "    iframe.src = new URL(path, url).toString();\n",
       "    iframe.height = height;\n",
       "    iframe.width = width;\n",
       "    iframe.style.border = 0;\n",
       "    element.appendChild(iframe);\n",
       "  })(8050, \"/\", \"100%\", 650, false, window.element)"
      ],
      "text/plain": [
       "<IPython.core.display.Javascript object>"
      ]
     },
     "metadata": {},
     "output_type": "display_data"
    }
   ],
   "source": [
    "# Run app and display result inline in the notebook\n",
    "app.run_server(mode='inline')"
   ]
  },
  {
   "cell_type": "markdown",
   "metadata": {
    "id": "vQsA7SNeimWm"
   },
   "source": [
    "# Attempt to Build Another Dashboard\n",
    "Displays interactive US map from the Web Scraping notebook, allows for seeing how likely airports have delays due to [weather, late carrier, national aviation system, etc.]; additionally, can provide visualizations for these statistics in different seasons"
   ]
  },
  {
   "cell_type": "code",
   "execution_count": null,
   "metadata": {
    "colab": {
     "base_uri": "https://localhost:8080/"
    },
    "executionInfo": {
     "elapsed": 371,
     "status": "ok",
     "timestamp": 1646995369669,
     "user": {
      "displayName": "Lyle Lalunio",
      "photoUrl": "https://lh3.googleusercontent.com/a-/AOh14GghbNYRVss8SZHRpJokVu08wOhF7pBsIB2iMfvj=s64",
      "userId": "00138275883526763465"
     },
     "user_tz": 480
    },
    "id": "poNZGkQSi6yp",
    "outputId": "d2b178a2-73ce-469a-871d-d529ebf62660"
   },
   "outputs": [
    {
     "data": {
      "text/plain": [
       "Index(['Airport.Code', 'Airport.Location', 'Airport.Name',\n",
       "       'Statistics.# of Delays.Carrier',\n",
       "       'Statistics.# of Delays.Late Aircraft',\n",
       "       'Statistics.# of Delays.National Aviation System',\n",
       "       'Statistics.# of Delays.Security', 'Statistics.# of Delays.Total',\n",
       "       'Statistics.# of Delays.Weather', 'Statistics.Carriers.Names',\n",
       "       'Statistics.Carriers.Total', 'Statistics.Flights.Cancelled',\n",
       "       'Statistics.Flights.Delayed', 'Statistics.Flights.Diverted',\n",
       "       'Statistics.Flights.On Time', 'Statistics.Flights.Total',\n",
       "       'Statistics.Minutes Delayed.Carrier',\n",
       "       'Statistics.Minutes Delayed.Late Aircraft',\n",
       "       'Statistics.Minutes Delayed.National Aviation System',\n",
       "       'Statistics.Minutes Delayed.Security',\n",
       "       'Statistics.Minutes Delayed.Total',\n",
       "       'Statistics.Minutes Delayed.Weather', 'Time.Label', 'Time.Month',\n",
       "       'Time.Month Name', 'Time.Year',\n",
       "       'Statistics.Flights.Proportion Delayed'],\n",
       "      dtype='object')"
      ]
     },
     "execution_count": 5,
     "metadata": {},
     "output_type": "execute_result"
    }
   ],
   "source": [
    "# of delays: what's the chance you will have to wait\n",
    "# minutes delayed: how long will you have to wait\n",
    "# looking at months/seasons: when's the best time to schedule flights\n",
    "\n",
    "df.columns"
   ]
  },
  {
   "cell_type": "code",
   "execution_count": null,
   "metadata": {
    "id": "8ablQleVio7M"
   },
   "outputs": [],
   "source": [
    "app = JupyterDash(__name__)\n",
    "app.layout = html.Div([\n",
    "    html.Div([\n",
    "        html.H1(\"Airport Dashboard\"),\n",
    "        html.Label([\n",
    "            \"Airport Name\",\n",
    "            dcc.Dropdown(\n",
    "                id='airport-name-dropdown', clearable=False,\n",
    "                value='San Francisco International', options=[\n",
    "                    {'label': name, 'value': name}\n",
    "                    for name in df['Airport.Name'].sort_values().unique()\n",
    "                ])\n",
    "            ]),\n",
    "        dcc.Graph(id='graph'),\n",
    "    ])\n",
    "])\n",
    "# Define callbacks to update graphs\n",
    "@app.callback(\n",
    "    Output('graph', 'figure'),\n",
    "    [Input(\"airport-name-dropdown\", \"value\")]\n",
    ")\n",
    "def update_figure(val):\n",
    "    try:\n",
    "        #print(val)\n",
    "        d = df[df['Airport.Name'] == val]\n",
    "        fig = px.scatter_geo(geo_df, lon=geo_df.geometry.x, lat=geo_df.geometry.y, color='Chance of Delay', hover_data=['Airport.Name'])\n",
    "        fig.update_traces(marker=dict(size=12))\n",
    "        return fig\n",
    "    except:\n",
    "        return None"
   ]
  },
  {
   "cell_type": "code",
   "execution_count": null,
   "metadata": {
    "colab": {
     "base_uri": "https://localhost:8080/"
    },
    "executionInfo": {
     "elapsed": 1162,
     "status": "error",
     "timestamp": 1646995493799,
     "user": {
      "displayName": "Lyle Lalunio",
      "photoUrl": "https://lh3.googleusercontent.com/a-/AOh14GghbNYRVss8SZHRpJokVu08wOhF7pBsIB2iMfvj=s64",
      "userId": "00138275883526763465"
     },
     "user_tz": 480
    },
    "id": "_9tc5HXRkaF4",
    "outputId": "27928c34-280e-4cfa-d13c-54addf73c76b"
   },
   "outputs": [
    {
     "ename": "AttributeError",
     "evalue": "ignored",
     "output_type": "error",
     "traceback": [
      "\u001b[0;31m---------------------------------------------------------------------------\u001b[0m",
      "\u001b[0;31mAttributeError\u001b[0m                            Traceback (most recent call last)",
      "\u001b[0;32m<ipython-input-6-1366a0246a7d>\u001b[0m in \u001b[0;36m<module>\u001b[0;34m()\u001b[0m\n\u001b[0;32m----> 1\u001b[0;31m \u001b[0mpx\u001b[0m\u001b[0;34m.\u001b[0m\u001b[0mscatter_geo\u001b[0m\u001b[0;34m(\u001b[0m\u001b[0mgeo_df\u001b[0m\u001b[0;34m,\u001b[0m \u001b[0mlon\u001b[0m\u001b[0;34m=\u001b[0m\u001b[0mgeo_df\u001b[0m\u001b[0;34m.\u001b[0m\u001b[0mgeometry\u001b[0m\u001b[0;34m.\u001b[0m\u001b[0mx\u001b[0m\u001b[0;34m,\u001b[0m \u001b[0mlat\u001b[0m\u001b[0;34m=\u001b[0m\u001b[0mgeo_df\u001b[0m\u001b[0;34m.\u001b[0m\u001b[0mgeometry\u001b[0m\u001b[0;34m.\u001b[0m\u001b[0my\u001b[0m\u001b[0;34m,\u001b[0m \u001b[0mcolor\u001b[0m\u001b[0;34m=\u001b[0m\u001b[0;34m'Chance of Delay'\u001b[0m\u001b[0;34m,\u001b[0m \u001b[0mhover_data\u001b[0m\u001b[0;34m=\u001b[0m\u001b[0;34m[\u001b[0m\u001b[0;34m'Airport.Name'\u001b[0m\u001b[0;34m]\u001b[0m\u001b[0;34m)\u001b[0m\u001b[0;34m\u001b[0m\u001b[0;34m\u001b[0m\u001b[0m\n\u001b[0m",
      "\u001b[0;32m/usr/local/lib/python3.7/dist-packages/pandas/core/generic.py\u001b[0m in \u001b[0;36m__getattr__\u001b[0;34m(self, name)\u001b[0m\n\u001b[1;32m   5485\u001b[0m         ):\n\u001b[1;32m   5486\u001b[0m             \u001b[0;32mreturn\u001b[0m \u001b[0mself\u001b[0m\u001b[0;34m[\u001b[0m\u001b[0mname\u001b[0m\u001b[0;34m]\u001b[0m\u001b[0;34m\u001b[0m\u001b[0;34m\u001b[0m\u001b[0m\n\u001b[0;32m-> 5487\u001b[0;31m         \u001b[0;32mreturn\u001b[0m \u001b[0mobject\u001b[0m\u001b[0;34m.\u001b[0m\u001b[0m__getattribute__\u001b[0m\u001b[0;34m(\u001b[0m\u001b[0mself\u001b[0m\u001b[0;34m,\u001b[0m \u001b[0mname\u001b[0m\u001b[0;34m)\u001b[0m\u001b[0;34m\u001b[0m\u001b[0;34m\u001b[0m\u001b[0m\n\u001b[0m\u001b[1;32m   5488\u001b[0m \u001b[0;34m\u001b[0m\u001b[0m\n\u001b[1;32m   5489\u001b[0m     \u001b[0;32mdef\u001b[0m \u001b[0m__setattr__\u001b[0m\u001b[0;34m(\u001b[0m\u001b[0mself\u001b[0m\u001b[0;34m,\u001b[0m \u001b[0mname\u001b[0m\u001b[0;34m:\u001b[0m \u001b[0mstr\u001b[0m\u001b[0;34m,\u001b[0m \u001b[0mvalue\u001b[0m\u001b[0;34m)\u001b[0m \u001b[0;34m->\u001b[0m \u001b[0;32mNone\u001b[0m\u001b[0;34m:\u001b[0m\u001b[0;34m\u001b[0m\u001b[0;34m\u001b[0m\u001b[0m\n",
      "\u001b[0;31mAttributeError\u001b[0m: 'Series' object has no attribute 'x'"
     ]
    }
   ],
   "source": [
    "px.scatter_geo(geo_df, lon=geo_df.geometry.x, lat=geo_df.geometry.y, color='Chance of Delay', hover_data=['Airport.Name'])"
   ]
  },
  {
   "cell_type": "code",
   "execution_count": null,
   "metadata": {
    "colab": {
     "base_uri": "https://localhost:8080/",
     "height": 671
    },
    "executionInfo": {
     "elapsed": 310,
     "status": "ok",
     "timestamp": 1646995209293,
     "user": {
      "displayName": "Lyle Lalunio",
      "photoUrl": "https://lh3.googleusercontent.com/a-/AOh14GghbNYRVss8SZHRpJokVu08wOhF7pBsIB2iMfvj=s64",
      "userId": "00138275883526763465"
     },
     "user_tz": 480
    },
    "id": "nXENrfQPiuZ-",
    "outputId": "a8f4143e-af4c-4ae2-c130-38c37b056c10"
   },
   "outputs": [
    {
     "data": {
      "application/javascript": [
       "(async (port, path, width, height, cache, element) => {\n",
       "    if (!google.colab.kernel.accessAllowed && !cache) {\n",
       "      return;\n",
       "    }\n",
       "    element.appendChild(document.createTextNode(''));\n",
       "    const url = await google.colab.kernel.proxyPort(port, {cache});\n",
       "    const iframe = document.createElement('iframe');\n",
       "    iframe.src = new URL(path, url).toString();\n",
       "    iframe.height = height;\n",
       "    iframe.width = width;\n",
       "    iframe.style.border = 0;\n",
       "    element.appendChild(iframe);\n",
       "  })(8050, \"/\", \"100%\", 650, false, window.element)"
      ],
      "text/plain": [
       "<IPython.core.display.Javascript object>"
      ]
     },
     "metadata": {},
     "output_type": "display_data"
    }
   ],
   "source": [
    "app.run_server(mode='inline')"
   ]
  },
  {
   "cell_type": "markdown",
   "metadata": {
    "id": "KOJXfX6BZSBB"
   },
   "source": [
    "## Vanilla Dash attempt (not working in .ipynb)"
   ]
  },
  {
   "cell_type": "code",
   "execution_count": null,
   "metadata": {
    "id": "aWUjvYiXpBS5"
   },
   "outputs": [],
   "source": [
    "!pip install dash\n",
    "import dash\n",
    "from dash import dcc\n",
    "from dash import html\n",
    "import pandas as po\n",
    "\n",
    "data = po.read_csv(\"data/Cleaned_airports.csv\", parse_dates=True)\n",
    "\n",
    "\n",
    "app = dash.Dash(__name__)"
   ]
  },
  {
   "cell_type": "code",
   "execution_count": null,
   "metadata": {
    "colab": {
     "base_uri": "https://localhost:8080/",
     "height": 317
    },
    "executionInfo": {
     "elapsed": 1467,
     "status": "error",
     "timestamp": 1646526935851,
     "user": {
      "displayName": "Lyle Lalunio",
      "photoUrl": "https://lh3.googleusercontent.com/a-/AOh14GghbNYRVss8SZHRpJokVu08wOhF7pBsIB2iMfvj=s64",
      "userId": "00138275883526763465"
     },
     "user_tz": 480
    },
    "id": "uYCL_fWQplvk",
    "outputId": "2cbdcfac-3834-4d49-e6a6-351aa8fc1183"
   },
   "outputs": [
    {
     "ename": "SystemExit",
     "evalue": "1",
     "output_type": "error",
     "traceback": [
      "An exception has occurred, use %tb to see the full traceback.\n",
      "\u001b[1;31mSystemExit\u001b[0m\u001b[1;31m:\u001b[0m 1\n"
     ]
    },
    {
     "name": "stderr",
     "output_type": "stream",
     "text": [
      "C:\\ProgramData\\Anaconda3\\lib\\site-packages\\IPython\\core\\interactiveshell.py:3445: UserWarning:\n",
      "\n",
      "To exit: use 'exit', 'quit', or Ctrl-D.\n",
      "\n"
     ]
    }
   ],
   "source": [
    "app.run_server(debug=True)"
   ]
  },
  {
   "cell_type": "code",
   "execution_count": null,
   "metadata": {
    "id": "9B1Iukgtpyw3"
   },
   "outputs": [],
   "source": []
  }
 ],
 "metadata": {
  "colab": {
   "collapsed_sections": [],
   "name": "[gColab] [WIP] Dashboard with Dash.ipynb",
   "provenance": []
  },
  "kernelspec": {
   "display_name": "Python 3",
   "language": "python",
   "name": "python3"
  },
  "language_info": {
   "codemirror_mode": {
    "name": "ipython",
    "version": 3
   },
   "file_extension": ".py",
   "mimetype": "text/x-python",
   "name": "python",
   "nbconvert_exporter": "python",
   "pygments_lexer": "ipython3",
   "version": "3.8.8"
  }
 },
 "nbformat": 4,
 "nbformat_minor": 1
}
